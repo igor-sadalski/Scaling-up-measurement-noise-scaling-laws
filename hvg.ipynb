{
 "cells": [
  {
   "cell_type": "code",
   "execution_count": 2,
   "metadata": {},
   "outputs": [],
   "source": [
    "from scanpy import read_h5ad\n",
    "import anndata as ad\n",
    "import scanpy as sc\n",
    "import pickle\n",
    "import os"
   ]
  },
  {
   "cell_type": "code",
   "execution_count": null,
   "metadata": {},
   "outputs": [],
   "source": [
    "\n",
    "adata = ad.read_h5ad(\n",
    "    \"/home/jupyter/igor_repos/noise_scaling_laws/data/shendure/10000000/1.0/preprocessed/preprocessed.h5ad\"\n",
    ")\n",
    "sc.pp.normalize_total(adata, target_sum=1e4)\n",
    "sc.pp.log1p(adata)\n",
    "sampled_adata = sc.pp.highly_variable_genes(adata, n_top_genes=750)\n",
    "hvg_mask = adata.var[\"highly_variable\"].to_numpy()\n",
    "output_dir = \"/home/jupyter/igor_repos/noise_scaling_laws/data/shendure/utils\"\n",
    "os.makedirs(output_dir, exist_ok=True)\n",
    "output_path = os.path.join(output_dir, \"pca_hvg.pkl\")\n",
    "with open(output_path, \"wb\") as f:\n",
    "    pickle.dump(hvg_mask, f)"
   ]
  },
  {
   "cell_type": "code",
   "execution_count": 3,
   "metadata": {},
   "outputs": [],
   "source": [
    "adata = ad.read_h5ad(\"/home/jupyter/igor_repos/noise_scaling_laws/data/PBMC/100000/1.0/preprocessed/preprocessed.h5ad\")\n",
    "sc.pp.normalize_total(adata, target_sum=1e4)\n",
    "sc.pp.log1p(adata)\n",
    "sampled_adata = sc.pp.highly_variable_genes(adata, n_top_genes=750)\n",
    "hvg_mask = adata.var[\"highly_variable\"].to_numpy()\n",
    "output_dir = \"/home/jupyter/igor_repos/noise_scaling_laws/data/PBMC/utils\"\n",
    "os.makedirs(output_dir, exist_ok=True)\n",
    "output_path = os.path.join(output_dir, \"pca_hvg.pkl\")\n",
    "with open(output_path, \"wb\") as f:\n",
    "    pickle.dump(hvg_mask, f)"
   ]
  },
  {
   "cell_type": "code",
   "execution_count": 4,
   "metadata": {},
   "outputs": [],
   "source": [
    "adata = ad.read_h5ad(\"/home/jupyter/igor_repos/noise_scaling_laws/data/larry/100000/1.0/preprocessed/preprocessed.h5ad\")\n",
    "sc.pp.normalize_total(adata, target_sum=1e4)\n",
    "sc.pp.log1p(adata)\n",
    "sampled_adata = sc.pp.highly_variable_genes(adata, n_top_genes=750)\n",
    "hvg_mask = adata.var[\"highly_variable\"].to_numpy()\n",
    "output_dir = \"/home/jupyter/igor_repos/noise_scaling_laws/data/larry/utils\"\n",
    "os.makedirs(output_dir, exist_ok=True)\n",
    "output_path = os.path.join(output_dir, \"pca_hvg.pkl\")\n",
    "with open(output_path, \"wb\") as f:\n",
    "    pickle.dump(hvg_mask, f)"
   ]
  }
 ],
 "metadata": {
  "kernelspec": {
   "display_name": ".venv",
   "language": "python",
   "name": "python3"
  },
  "language_info": {
   "codemirror_mode": {
    "name": "ipython",
    "version": 3
   },
   "file_extension": ".py",
   "mimetype": "text/x-python",
   "name": "python",
   "nbconvert_exporter": "python",
   "pygments_lexer": "ipython3",
   "version": "3.10.15"
  }
 },
 "nbformat": 4,
 "nbformat_minor": 2
}
